{
 "cells": [
  {
   "cell_type": "code",
   "execution_count": 1,
   "metadata": {},
   "outputs": [],
   "source": [
    "# importing necessary libraries\n",
    "import numpy as np\n",
    "import pandas as pd\n",
    "from sklearn.model_selection import train_test_split\n",
    "from sklearn.preprocessing import StandardScaler\n",
    "from sklearn.ensemble import GradientBoostingRegressor\n",
    "from sklearn.ensemble import RandomForestRegressor\n",
    "from sklearn.model_selection import GridSearchCV\n",
    "from sklearn import metrics"
   ]
  },
  {
   "cell_type": "code",
   "execution_count": 2,
   "metadata": {},
   "outputs": [],
   "source": [
    "df = pd.read_csv('Walmart_Store_sales.csv')"
   ]
  },
  {
   "cell_type": "code",
   "execution_count": 3,
   "metadata": {},
   "outputs": [
    {
     "data": {
      "text/html": [
       "<div>\n",
       "<style scoped>\n",
       "    .dataframe tbody tr th:only-of-type {\n",
       "        vertical-align: middle;\n",
       "    }\n",
       "\n",
       "    .dataframe tbody tr th {\n",
       "        vertical-align: top;\n",
       "    }\n",
       "\n",
       "    .dataframe thead th {\n",
       "        text-align: right;\n",
       "    }\n",
       "</style>\n",
       "<table border=\"1\" class=\"dataframe\">\n",
       "  <thead>\n",
       "    <tr style=\"text-align: right;\">\n",
       "      <th></th>\n",
       "      <th>Store</th>\n",
       "      <th>Date</th>\n",
       "      <th>Weekly_Sales</th>\n",
       "      <th>Holiday_Flag</th>\n",
       "      <th>Temperature</th>\n",
       "      <th>Fuel_Price</th>\n",
       "      <th>CPI</th>\n",
       "      <th>Unemployment</th>\n",
       "    </tr>\n",
       "  </thead>\n",
       "  <tbody>\n",
       "    <tr>\n",
       "      <th>0</th>\n",
       "      <td>1</td>\n",
       "      <td>5/2/2010</td>\n",
       "      <td>1643690.90</td>\n",
       "      <td>0</td>\n",
       "      <td>42.31</td>\n",
       "      <td>2.572</td>\n",
       "      <td>211.096358</td>\n",
       "      <td>8.106</td>\n",
       "    </tr>\n",
       "    <tr>\n",
       "      <th>1</th>\n",
       "      <td>1</td>\n",
       "      <td>12/2/2010</td>\n",
       "      <td>1641957.44</td>\n",
       "      <td>1</td>\n",
       "      <td>38.51</td>\n",
       "      <td>2.548</td>\n",
       "      <td>211.242170</td>\n",
       "      <td>8.106</td>\n",
       "    </tr>\n",
       "    <tr>\n",
       "      <th>2</th>\n",
       "      <td>1</td>\n",
       "      <td>19-02-2010</td>\n",
       "      <td>1611968.17</td>\n",
       "      <td>0</td>\n",
       "      <td>39.93</td>\n",
       "      <td>2.514</td>\n",
       "      <td>211.289143</td>\n",
       "      <td>8.106</td>\n",
       "    </tr>\n",
       "    <tr>\n",
       "      <th>3</th>\n",
       "      <td>1</td>\n",
       "      <td>26-02-2010</td>\n",
       "      <td>1409727.59</td>\n",
       "      <td>0</td>\n",
       "      <td>46.63</td>\n",
       "      <td>2.561</td>\n",
       "      <td>211.319643</td>\n",
       "      <td>8.106</td>\n",
       "    </tr>\n",
       "    <tr>\n",
       "      <th>4</th>\n",
       "      <td>1</td>\n",
       "      <td>5/3/2010</td>\n",
       "      <td>1554806.68</td>\n",
       "      <td>0</td>\n",
       "      <td>46.50</td>\n",
       "      <td>2.625</td>\n",
       "      <td>211.350143</td>\n",
       "      <td>8.106</td>\n",
       "    </tr>\n",
       "  </tbody>\n",
       "</table>\n",
       "</div>"
      ],
      "text/plain": [
       "   Store        Date  Weekly_Sales  Holiday_Flag  Temperature  Fuel_Price  \\\n",
       "0      1    5/2/2010    1643690.90             0        42.31       2.572   \n",
       "1      1   12/2/2010    1641957.44             1        38.51       2.548   \n",
       "2      1  19-02-2010    1611968.17             0        39.93       2.514   \n",
       "3      1  26-02-2010    1409727.59             0        46.63       2.561   \n",
       "4      1    5/3/2010    1554806.68             0        46.50       2.625   \n",
       "\n",
       "          CPI  Unemployment  \n",
       "0  211.096358         8.106  \n",
       "1  211.242170         8.106  \n",
       "2  211.289143         8.106  \n",
       "3  211.319643         8.106  \n",
       "4  211.350143         8.106  "
      ]
     },
     "execution_count": 3,
     "metadata": {},
     "output_type": "execute_result"
    }
   ],
   "source": [
    "df.head()"
   ]
  },
  {
   "cell_type": "code",
   "execution_count": 4,
   "metadata": {},
   "outputs": [
    {
     "data": {
      "text/plain": [
       "(6435, 8)"
      ]
     },
     "execution_count": 4,
     "metadata": {},
     "output_type": "execute_result"
    }
   ],
   "source": [
    "df.shape"
   ]
  },
  {
   "cell_type": "code",
   "execution_count": 5,
   "metadata": {},
   "outputs": [
    {
     "data": {
      "text/html": [
       "<div>\n",
       "<style scoped>\n",
       "    .dataframe tbody tr th:only-of-type {\n",
       "        vertical-align: middle;\n",
       "    }\n",
       "\n",
       "    .dataframe tbody tr th {\n",
       "        vertical-align: top;\n",
       "    }\n",
       "\n",
       "    .dataframe thead th {\n",
       "        text-align: right;\n",
       "    }\n",
       "</style>\n",
       "<table border=\"1\" class=\"dataframe\">\n",
       "  <thead>\n",
       "    <tr style=\"text-align: right;\">\n",
       "      <th></th>\n",
       "      <th>Store</th>\n",
       "      <th>Weekly_Sales</th>\n",
       "      <th>Holiday_Flag</th>\n",
       "      <th>Temperature</th>\n",
       "      <th>Fuel_Price</th>\n",
       "      <th>CPI</th>\n",
       "      <th>Unemployment</th>\n",
       "    </tr>\n",
       "  </thead>\n",
       "  <tbody>\n",
       "    <tr>\n",
       "      <th>Store</th>\n",
       "      <td>1.000000e+00</td>\n",
       "      <td>-0.335332</td>\n",
       "      <td>6.250842e-20</td>\n",
       "      <td>-0.022659</td>\n",
       "      <td>0.060023</td>\n",
       "      <td>-0.209492</td>\n",
       "      <td>0.223531</td>\n",
       "    </tr>\n",
       "    <tr>\n",
       "      <th>Weekly_Sales</th>\n",
       "      <td>-3.353320e-01</td>\n",
       "      <td>1.000000</td>\n",
       "      <td>3.689097e-02</td>\n",
       "      <td>-0.063810</td>\n",
       "      <td>0.009464</td>\n",
       "      <td>-0.072634</td>\n",
       "      <td>-0.106176</td>\n",
       "    </tr>\n",
       "    <tr>\n",
       "      <th>Holiday_Flag</th>\n",
       "      <td>6.250842e-20</td>\n",
       "      <td>0.036891</td>\n",
       "      <td>1.000000e+00</td>\n",
       "      <td>-0.155091</td>\n",
       "      <td>-0.078347</td>\n",
       "      <td>-0.002162</td>\n",
       "      <td>0.010960</td>\n",
       "    </tr>\n",
       "    <tr>\n",
       "      <th>Temperature</th>\n",
       "      <td>-2.265908e-02</td>\n",
       "      <td>-0.063810</td>\n",
       "      <td>-1.550913e-01</td>\n",
       "      <td>1.000000</td>\n",
       "      <td>0.144982</td>\n",
       "      <td>0.176888</td>\n",
       "      <td>0.101158</td>\n",
       "    </tr>\n",
       "    <tr>\n",
       "      <th>Fuel_Price</th>\n",
       "      <td>6.002295e-02</td>\n",
       "      <td>0.009464</td>\n",
       "      <td>-7.834652e-02</td>\n",
       "      <td>0.144982</td>\n",
       "      <td>1.000000</td>\n",
       "      <td>-0.170642</td>\n",
       "      <td>-0.034684</td>\n",
       "    </tr>\n",
       "    <tr>\n",
       "      <th>CPI</th>\n",
       "      <td>-2.094919e-01</td>\n",
       "      <td>-0.072634</td>\n",
       "      <td>-2.162091e-03</td>\n",
       "      <td>0.176888</td>\n",
       "      <td>-0.170642</td>\n",
       "      <td>1.000000</td>\n",
       "      <td>-0.302020</td>\n",
       "    </tr>\n",
       "    <tr>\n",
       "      <th>Unemployment</th>\n",
       "      <td>2.235313e-01</td>\n",
       "      <td>-0.106176</td>\n",
       "      <td>1.096028e-02</td>\n",
       "      <td>0.101158</td>\n",
       "      <td>-0.034684</td>\n",
       "      <td>-0.302020</td>\n",
       "      <td>1.000000</td>\n",
       "    </tr>\n",
       "  </tbody>\n",
       "</table>\n",
       "</div>"
      ],
      "text/plain": [
       "                     Store  Weekly_Sales  Holiday_Flag  Temperature  \\\n",
       "Store         1.000000e+00     -0.335332  6.250842e-20    -0.022659   \n",
       "Weekly_Sales -3.353320e-01      1.000000  3.689097e-02    -0.063810   \n",
       "Holiday_Flag  6.250842e-20      0.036891  1.000000e+00    -0.155091   \n",
       "Temperature  -2.265908e-02     -0.063810 -1.550913e-01     1.000000   \n",
       "Fuel_Price    6.002295e-02      0.009464 -7.834652e-02     0.144982   \n",
       "CPI          -2.094919e-01     -0.072634 -2.162091e-03     0.176888   \n",
       "Unemployment  2.235313e-01     -0.106176  1.096028e-02     0.101158   \n",
       "\n",
       "              Fuel_Price       CPI  Unemployment  \n",
       "Store           0.060023 -0.209492      0.223531  \n",
       "Weekly_Sales    0.009464 -0.072634     -0.106176  \n",
       "Holiday_Flag   -0.078347 -0.002162      0.010960  \n",
       "Temperature     0.144982  0.176888      0.101158  \n",
       "Fuel_Price      1.000000 -0.170642     -0.034684  \n",
       "CPI            -0.170642  1.000000     -0.302020  \n",
       "Unemployment   -0.034684 -0.302020      1.000000  "
      ]
     },
     "execution_count": 5,
     "metadata": {},
     "output_type": "execute_result"
    }
   ],
   "source": [
    "df.corr()"
   ]
  },
  {
   "cell_type": "code",
   "execution_count": 6,
   "metadata": {},
   "outputs": [],
   "source": [
    "X = df.loc[:,['Holiday_Flag', 'Temperature', 'Fuel_Price', 'CPI', 'Unemployment']]\n",
    "y = df['Weekly_Sales']"
   ]
  },
  {
   "cell_type": "code",
   "execution_count": 7,
   "metadata": {},
   "outputs": [],
   "source": [
    "X_train, X_test, y_train, y_test = train_test_split(X, y, test_size=0.2, random_state=1234)"
   ]
  },
  {
   "cell_type": "code",
   "execution_count": 8,
   "metadata": {},
   "outputs": [],
   "source": [
    "# feature selection"
   ]
  },
  {
   "cell_type": "code",
   "execution_count": 9,
   "metadata": {},
   "outputs": [],
   "source": [
    "rf = RandomForestRegressor().fit(X_train, y_train)\n",
    "feature_importances = pd.DataFrame({'features': X_train.columns, 'importances': rf.feature_importances_})"
   ]
  },
  {
   "cell_type": "code",
   "execution_count": 10,
   "metadata": {},
   "outputs": [
    {
     "data": {
      "text/html": [
       "<div>\n",
       "<style scoped>\n",
       "    .dataframe tbody tr th:only-of-type {\n",
       "        vertical-align: middle;\n",
       "    }\n",
       "\n",
       "    .dataframe tbody tr th {\n",
       "        vertical-align: top;\n",
       "    }\n",
       "\n",
       "    .dataframe thead th {\n",
       "        text-align: right;\n",
       "    }\n",
       "</style>\n",
       "<table border=\"1\" class=\"dataframe\">\n",
       "  <thead>\n",
       "    <tr style=\"text-align: right;\">\n",
       "      <th></th>\n",
       "      <th>features</th>\n",
       "      <th>importances</th>\n",
       "    </tr>\n",
       "  </thead>\n",
       "  <tbody>\n",
       "    <tr>\n",
       "      <th>4</th>\n",
       "      <td>Unemployment</td>\n",
       "      <td>0.321241</td>\n",
       "    </tr>\n",
       "    <tr>\n",
       "      <th>3</th>\n",
       "      <td>CPI</td>\n",
       "      <td>0.264524</td>\n",
       "    </tr>\n",
       "    <tr>\n",
       "      <th>1</th>\n",
       "      <td>Temperature</td>\n",
       "      <td>0.257384</td>\n",
       "    </tr>\n",
       "    <tr>\n",
       "      <th>2</th>\n",
       "      <td>Fuel_Price</td>\n",
       "      <td>0.146043</td>\n",
       "    </tr>\n",
       "    <tr>\n",
       "      <th>0</th>\n",
       "      <td>Holiday_Flag</td>\n",
       "      <td>0.010809</td>\n",
       "    </tr>\n",
       "  </tbody>\n",
       "</table>\n",
       "</div>"
      ],
      "text/plain": [
       "       features  importances\n",
       "4  Unemployment     0.321241\n",
       "3           CPI     0.264524\n",
       "1   Temperature     0.257384\n",
       "2    Fuel_Price     0.146043\n",
       "0  Holiday_Flag     0.010809"
      ]
     },
     "execution_count": 10,
     "metadata": {},
     "output_type": "execute_result"
    }
   ],
   "source": [
    "feature_importances.sort_values(by = 'importances', ascending = False)"
   ]
  },
  {
   "cell_type": "code",
   "execution_count": 11,
   "metadata": {},
   "outputs": [],
   "source": [
    "X_train = X_train.loc[:, ['CPI', 'Unemployment', 'Temperature']]\n",
    "X_test = X_test.loc[:, ['CPI', 'Unemployment', 'Temperature']]"
   ]
  },
  {
   "cell_type": "code",
   "execution_count": 12,
   "metadata": {},
   "outputs": [],
   "source": [
    "columns = X_train.columns\n",
    "scalerx = StandardScaler()\n",
    "X_train_scaled = scalerx.fit_transform(X_train)\n",
    "X_train_scaled = pd.DataFrame(X_train_scaled, columns = columns)\n",
    "\n",
    "X_test_scaled = scalerx.transform(X_test)\n",
    "X_test_scaled = pd.DataFrame(X_test_scaled, columns = columns)"
   ]
  },
  {
   "cell_type": "code",
   "execution_count": 13,
   "metadata": {},
   "outputs": [],
   "source": [
    "y_train = np.array(y_train).reshape(y_train.shape[0],1)\n",
    "y_test = np.array(y_test).reshape(y_test.shape[0],1)\n",
    "\n",
    "scalery = StandardScaler()\n",
    "y_train_scaled = scalery.fit_transform(y_train).ravel()\n",
    "y_test_scaled = scalery.transform(y_test)"
   ]
  },
  {
   "cell_type": "code",
   "execution_count": 14,
   "metadata": {},
   "outputs": [
    {
     "name": "stdout",
     "output_type": "stream",
     "text": [
      "Fitting 5 folds for each of 27 candidates, totalling 135 fits\n",
      "[CV 1/5] END ..................max_depth=3, n_estimators=100; total time=   0.3s\n",
      "[CV 2/5] END ..................max_depth=3, n_estimators=100; total time=   0.3s\n",
      "[CV 3/5] END ..................max_depth=3, n_estimators=100; total time=   0.3s\n",
      "[CV 4/5] END ..................max_depth=3, n_estimators=100; total time=   0.3s\n",
      "[CV 5/5] END ..................max_depth=3, n_estimators=100; total time=   0.3s\n",
      "[CV 1/5] END ..................max_depth=3, n_estimators=150; total time=   0.5s\n",
      "[CV 2/5] END ..................max_depth=3, n_estimators=150; total time=   0.5s\n",
      "[CV 3/5] END ..................max_depth=3, n_estimators=150; total time=   0.5s\n",
      "[CV 4/5] END ..................max_depth=3, n_estimators=150; total time=   0.5s\n",
      "[CV 5/5] END ..................max_depth=3, n_estimators=150; total time=   0.5s\n",
      "[CV 1/5] END ..................max_depth=3, n_estimators=200; total time=   0.7s\n",
      "[CV 2/5] END ..................max_depth=3, n_estimators=200; total time=   0.7s\n",
      "[CV 3/5] END ..................max_depth=3, n_estimators=200; total time=   0.6s\n",
      "[CV 4/5] END ..................max_depth=3, n_estimators=200; total time=   0.7s\n",
      "[CV 5/5] END ..................max_depth=3, n_estimators=200; total time=   0.7s\n",
      "[CV 1/5] END ..................max_depth=3, n_estimators=250; total time=   0.8s\n",
      "[CV 2/5] END ..................max_depth=3, n_estimators=250; total time=   0.9s\n",
      "[CV 3/5] END ..................max_depth=3, n_estimators=250; total time=   0.9s\n",
      "[CV 4/5] END ..................max_depth=3, n_estimators=250; total time=   0.9s\n",
      "[CV 5/5] END ..................max_depth=3, n_estimators=250; total time=   0.8s\n",
      "[CV 1/5] END ..................max_depth=3, n_estimators=300; total time=   1.0s\n",
      "[CV 2/5] END ..................max_depth=3, n_estimators=300; total time=   1.0s\n",
      "[CV 3/5] END ..................max_depth=3, n_estimators=300; total time=   1.0s\n",
      "[CV 4/5] END ..................max_depth=3, n_estimators=300; total time=   1.1s\n",
      "[CV 5/5] END ..................max_depth=3, n_estimators=300; total time=   1.1s\n",
      "[CV 1/5] END ..................max_depth=3, n_estimators=350; total time=   1.4s\n",
      "[CV 2/5] END ..................max_depth=3, n_estimators=350; total time=   1.4s\n",
      "[CV 3/5] END ..................max_depth=3, n_estimators=350; total time=   1.3s\n",
      "[CV 4/5] END ..................max_depth=3, n_estimators=350; total time=   1.3s\n",
      "[CV 5/5] END ..................max_depth=3, n_estimators=350; total time=   1.3s\n",
      "[CV 1/5] END ..................max_depth=3, n_estimators=400; total time=   1.5s\n",
      "[CV 2/5] END ..................max_depth=3, n_estimators=400; total time=   1.4s\n",
      "[CV 3/5] END ..................max_depth=3, n_estimators=400; total time=   1.5s\n",
      "[CV 4/5] END ..................max_depth=3, n_estimators=400; total time=   1.5s\n",
      "[CV 5/5] END ..................max_depth=3, n_estimators=400; total time=   1.5s\n",
      "[CV 1/5] END ..................max_depth=3, n_estimators=450; total time=   1.6s\n",
      "[CV 2/5] END ..................max_depth=3, n_estimators=450; total time=   1.7s\n",
      "[CV 3/5] END ..................max_depth=3, n_estimators=450; total time=   1.6s\n",
      "[CV 4/5] END ..................max_depth=3, n_estimators=450; total time=   1.7s\n",
      "[CV 5/5] END ..................max_depth=3, n_estimators=450; total time=   1.6s\n",
      "[CV 1/5] END ..................max_depth=3, n_estimators=500; total time=   1.8s\n",
      "[CV 2/5] END ..................max_depth=3, n_estimators=500; total time=   1.8s\n",
      "[CV 3/5] END ..................max_depth=3, n_estimators=500; total time=   1.9s\n",
      "[CV 4/5] END ..................max_depth=3, n_estimators=500; total time=   2.0s\n",
      "[CV 5/5] END ..................max_depth=3, n_estimators=500; total time=   1.9s\n",
      "[CV 1/5] END ..................max_depth=4, n_estimators=100; total time=   0.4s\n",
      "[CV 2/5] END ..................max_depth=4, n_estimators=100; total time=   0.4s\n",
      "[CV 3/5] END ..................max_depth=4, n_estimators=100; total time=   0.5s\n",
      "[CV 4/5] END ..................max_depth=4, n_estimators=100; total time=   0.4s\n",
      "[CV 5/5] END ..................max_depth=4, n_estimators=100; total time=   0.5s\n",
      "[CV 1/5] END ..................max_depth=4, n_estimators=150; total time=   0.8s\n",
      "[CV 2/5] END ..................max_depth=4, n_estimators=150; total time=   0.7s\n",
      "[CV 3/5] END ..................max_depth=4, n_estimators=150; total time=   0.7s\n",
      "[CV 4/5] END ..................max_depth=4, n_estimators=150; total time=   0.7s\n",
      "[CV 5/5] END ..................max_depth=4, n_estimators=150; total time=   0.8s\n",
      "[CV 1/5] END ..................max_depth=4, n_estimators=200; total time=   1.3s\n",
      "[CV 2/5] END ..................max_depth=4, n_estimators=200; total time=   1.1s\n",
      "[CV 3/5] END ..................max_depth=4, n_estimators=200; total time=   1.2s\n",
      "[CV 4/5] END ..................max_depth=4, n_estimators=200; total time=   1.2s\n",
      "[CV 5/5] END ..................max_depth=4, n_estimators=200; total time=   1.2s\n",
      "[CV 1/5] END ..................max_depth=4, n_estimators=250; total time=   1.5s\n",
      "[CV 2/5] END ..................max_depth=4, n_estimators=250; total time=   1.2s\n",
      "[CV 3/5] END ..................max_depth=4, n_estimators=250; total time=   1.3s\n",
      "[CV 4/5] END ..................max_depth=4, n_estimators=250; total time=   1.3s\n",
      "[CV 5/5] END ..................max_depth=4, n_estimators=250; total time=   1.3s\n",
      "[CV 1/5] END ..................max_depth=4, n_estimators=300; total time=   1.7s\n",
      "[CV 2/5] END ..................max_depth=4, n_estimators=300; total time=   1.5s\n",
      "[CV 3/5] END ..................max_depth=4, n_estimators=300; total time=   1.4s\n",
      "[CV 4/5] END ..................max_depth=4, n_estimators=300; total time=   1.6s\n",
      "[CV 5/5] END ..................max_depth=4, n_estimators=300; total time=   1.4s\n",
      "[CV 1/5] END ..................max_depth=4, n_estimators=350; total time=   1.6s\n",
      "[CV 2/5] END ..................max_depth=4, n_estimators=350; total time=   1.6s\n",
      "[CV 3/5] END ..................max_depth=4, n_estimators=350; total time=   1.6s\n",
      "[CV 4/5] END ..................max_depth=4, n_estimators=350; total time=   1.6s\n",
      "[CV 5/5] END ..................max_depth=4, n_estimators=350; total time=   1.7s\n",
      "[CV 1/5] END ..................max_depth=4, n_estimators=400; total time=   2.0s\n",
      "[CV 2/5] END ..................max_depth=4, n_estimators=400; total time=   2.2s\n",
      "[CV 3/5] END ..................max_depth=4, n_estimators=400; total time=   2.0s\n",
      "[CV 4/5] END ..................max_depth=4, n_estimators=400; total time=   1.9s\n",
      "[CV 5/5] END ..................max_depth=4, n_estimators=400; total time=   1.9s\n",
      "[CV 1/5] END ..................max_depth=4, n_estimators=450; total time=   2.2s\n",
      "[CV 2/5] END ..................max_depth=4, n_estimators=450; total time=   2.2s\n",
      "[CV 3/5] END ..................max_depth=4, n_estimators=450; total time=   2.1s\n",
      "[CV 4/5] END ..................max_depth=4, n_estimators=450; total time=   2.2s\n",
      "[CV 5/5] END ..................max_depth=4, n_estimators=450; total time=   2.2s\n",
      "[CV 1/5] END ..................max_depth=4, n_estimators=500; total time=   2.4s\n",
      "[CV 2/5] END ..................max_depth=4, n_estimators=500; total time=   2.4s\n",
      "[CV 3/5] END ..................max_depth=4, n_estimators=500; total time=   2.3s\n",
      "[CV 4/5] END ..................max_depth=4, n_estimators=500; total time=   2.3s\n",
      "[CV 5/5] END ..................max_depth=4, n_estimators=500; total time=   2.5s\n",
      "[CV 1/5] END ..................max_depth=5, n_estimators=100; total time=   0.6s\n",
      "[CV 2/5] END ..................max_depth=5, n_estimators=100; total time=   0.5s\n",
      "[CV 3/5] END ..................max_depth=5, n_estimators=100; total time=   0.5s\n",
      "[CV 4/5] END ..................max_depth=5, n_estimators=100; total time=   0.6s\n",
      "[CV 5/5] END ..................max_depth=5, n_estimators=100; total time=   0.6s\n",
      "[CV 1/5] END ..................max_depth=5, n_estimators=150; total time=   0.8s\n",
      "[CV 2/5] END ..................max_depth=5, n_estimators=150; total time=   0.8s\n",
      "[CV 3/5] END ..................max_depth=5, n_estimators=150; total time=   0.8s\n",
      "[CV 4/5] END ..................max_depth=5, n_estimators=150; total time=   0.9s\n",
      "[CV 5/5] END ..................max_depth=5, n_estimators=150; total time=   0.9s\n",
      "[CV 1/5] END ..................max_depth=5, n_estimators=200; total time=   1.2s\n"
     ]
    },
    {
     "name": "stdout",
     "output_type": "stream",
     "text": [
      "[CV 2/5] END ..................max_depth=5, n_estimators=200; total time=   1.2s\n",
      "[CV 3/5] END ..................max_depth=5, n_estimators=200; total time=   1.2s\n",
      "[CV 4/5] END ..................max_depth=5, n_estimators=200; total time=   1.2s\n",
      "[CV 5/5] END ..................max_depth=5, n_estimators=200; total time=   1.3s\n",
      "[CV 1/5] END ..................max_depth=5, n_estimators=250; total time=   1.5s\n",
      "[CV 2/5] END ..................max_depth=5, n_estimators=250; total time=   1.5s\n",
      "[CV 3/5] END ..................max_depth=5, n_estimators=250; total time=   1.6s\n",
      "[CV 4/5] END ..................max_depth=5, n_estimators=250; total time=   1.7s\n",
      "[CV 5/5] END ..................max_depth=5, n_estimators=250; total time=   1.5s\n",
      "[CV 1/5] END ..................max_depth=5, n_estimators=300; total time=   2.4s\n",
      "[CV 2/5] END ..................max_depth=5, n_estimators=300; total time=   2.2s\n",
      "[CV 3/5] END ..................max_depth=5, n_estimators=300; total time=   2.2s\n",
      "[CV 4/5] END ..................max_depth=5, n_estimators=300; total time=   2.2s\n",
      "[CV 5/5] END ..................max_depth=5, n_estimators=300; total time=   1.7s\n",
      "[CV 1/5] END ..................max_depth=5, n_estimators=350; total time=   2.0s\n",
      "[CV 2/5] END ..................max_depth=5, n_estimators=350; total time=   2.0s\n",
      "[CV 3/5] END ..................max_depth=5, n_estimators=350; total time=   2.0s\n",
      "[CV 4/5] END ..................max_depth=5, n_estimators=350; total time=   2.0s\n",
      "[CV 5/5] END ..................max_depth=5, n_estimators=350; total time=   2.1s\n",
      "[CV 1/5] END ..................max_depth=5, n_estimators=400; total time=   2.4s\n",
      "[CV 2/5] END ..................max_depth=5, n_estimators=400; total time=   2.4s\n",
      "[CV 3/5] END ..................max_depth=5, n_estimators=400; total time=   2.4s\n",
      "[CV 4/5] END ..................max_depth=5, n_estimators=400; total time=   2.3s\n",
      "[CV 5/5] END ..................max_depth=5, n_estimators=400; total time=   2.5s\n",
      "[CV 1/5] END ..................max_depth=5, n_estimators=450; total time=   2.8s\n",
      "[CV 2/5] END ..................max_depth=5, n_estimators=450; total time=   2.6s\n",
      "[CV 3/5] END ..................max_depth=5, n_estimators=450; total time=   2.6s\n",
      "[CV 4/5] END ..................max_depth=5, n_estimators=450; total time=   2.6s\n",
      "[CV 5/5] END ..................max_depth=5, n_estimators=450; total time=   2.7s\n",
      "[CV 1/5] END ..................max_depth=5, n_estimators=500; total time=   3.0s\n",
      "[CV 2/5] END ..................max_depth=5, n_estimators=500; total time=   3.0s\n",
      "[CV 3/5] END ..................max_depth=5, n_estimators=500; total time=   3.2s\n",
      "[CV 4/5] END ..................max_depth=5, n_estimators=500; total time=   3.2s\n",
      "[CV 5/5] END ..................max_depth=5, n_estimators=500; total time=   3.0s\n"
     ]
    },
    {
     "data": {
      "text/plain": [
       "GridSearchCV(cv=5, estimator=GradientBoostingRegressor(),\n",
       "             param_grid={'max_depth': [3, 4, 5],\n",
       "                         'n_estimators': [100, 150, 200, 250, 300, 350, 400,\n",
       "                                          450, 500]},\n",
       "             return_train_score=True, scoring='r2', verbose=3)"
      ]
     },
     "execution_count": 14,
     "metadata": {},
     "output_type": "execute_result"
    }
   ],
   "source": [
    "params = {'n_estimators':[100, 150, 200, 250, 300, 350, 400, 450, 500], 'max_depth':[3,4,5]}\n",
    "\n",
    "reg = GradientBoostingRegressor()\n",
    "\n",
    "folds = 5\n",
    "model_cv = GridSearchCV(estimator = reg, \n",
    "                        param_grid = params, \n",
    "                        scoring= 'r2', \n",
    "                        cv = folds, \n",
    "                        return_train_score=True,\n",
    "                        verbose = 3)            \n",
    "model_cv.fit(X_train_scaled, y_train_scaled)"
   ]
  },
  {
   "cell_type": "code",
   "execution_count": 15,
   "metadata": {},
   "outputs": [
    {
     "data": {
      "text/plain": [
       "{'max_depth': 3, 'n_estimators': 450}"
      ]
     },
     "execution_count": 15,
     "metadata": {},
     "output_type": "execute_result"
    }
   ],
   "source": [
    "model_cv.best_params_"
   ]
  },
  {
   "cell_type": "code",
   "execution_count": 16,
   "metadata": {},
   "outputs": [],
   "source": [
    "model = GradientBoostingRegressor(max_depth = 3, \n",
    "                                  n_estimators = 450, \n",
    "                                  random_state = 1234).fit(X_train_scaled, y_train_scaled)"
   ]
  },
  {
   "cell_type": "code",
   "execution_count": 17,
   "metadata": {},
   "outputs": [
    {
     "name": "stdout",
     "output_type": "stream",
     "text": [
      "Training R2 Score:  0.4967802101560683\n",
      "Test R2 Score:  0.32693644374471564\n",
      "\n",
      "\n",
      "Training MAE:  0.5615894364854833\n",
      "Test MAE:  0.6331344894887558\n",
      "\n",
      "\n",
      "Training MSE:  0.5032197898439318\n",
      "Test MSE:  0.6248185922621741\n",
      "\n",
      "\n",
      "Training RMSE:  0.7093798628689229\n",
      "Test RMSE:  0.7904546743882119\n"
     ]
    }
   ],
   "source": [
    "maet = metrics.mean_absolute_error(y_train_scaled,model.predict(X_train_scaled))\n",
    "mae = metrics.mean_absolute_error(y_test_scaled,model.predict(X_test_scaled))\n",
    "mset = metrics.mean_squared_error(y_train_scaled,model.predict(X_train_scaled))\n",
    "mse = metrics.mean_squared_error(y_test_scaled,model.predict(X_test_scaled))\n",
    "rmset=np.sqrt(mset)\n",
    "rmse=np.sqrt(mse)\n",
    "r2_score_train = metrics.r2_score(y_train_scaled, model.predict(X_train_scaled))\n",
    "r2_score_test = metrics.r2_score(y_test_scaled, model.predict(X_test_scaled))\n",
    "\n",
    "print('Training R2 Score: ', r2_score_train)\n",
    "print('Test R2 Score: ', r2_score_test)\n",
    "print('\\n')\n",
    "print('Training MAE: ', maet)\n",
    "print('Test MAE: ', mae)\n",
    "print('\\n')\n",
    "print('Training MSE: ', mset)\n",
    "print('Test MSE: ', mse)\n",
    "print('\\n')\n",
    "print('Training RMSE: ', rmset)\n",
    "print('Test RMSE: ', rmse)"
   ]
  },
  {
   "cell_type": "code",
   "execution_count": 18,
   "metadata": {},
   "outputs": [
    {
     "data": {
      "text/plain": [
       "GradientBoostingRegressor(n_estimators=450, random_state=1234)"
      ]
     },
     "execution_count": 18,
     "metadata": {},
     "output_type": "execute_result"
    }
   ],
   "source": [
    "model"
   ]
  },
  {
   "cell_type": "code",
   "execution_count": 19,
   "metadata": {},
   "outputs": [
    {
     "data": {
      "text/plain": [
       "StandardScaler()"
      ]
     },
     "execution_count": 19,
     "metadata": {},
     "output_type": "execute_result"
    }
   ],
   "source": [
    "scalerx"
   ]
  },
  {
   "cell_type": "code",
   "execution_count": 20,
   "metadata": {},
   "outputs": [],
   "source": [
    "CPI = 211.096358\n",
    "unemployment = 8.106\n",
    "temperature = 42.31\n",
    "\n",
    "test_data = np.array([CPI, unemployment, temperature]).reshape(1, 3)\n",
    "test_data_scaled = scalerx.transform(test_data)\n",
    "\n",
    "predicted_sales = model.predict(test_data_scaled)"
   ]
  },
  {
   "cell_type": "code",
   "execution_count": 21,
   "metadata": {},
   "outputs": [
    {
     "data": {
      "text/plain": [
       "array([0.61567914])"
      ]
     },
     "execution_count": 21,
     "metadata": {},
     "output_type": "execute_result"
    }
   ],
   "source": [
    "predicted_sales"
   ]
  },
  {
   "cell_type": "code",
   "execution_count": 22,
   "metadata": {},
   "outputs": [],
   "source": [
    "predicted_sales_unscaled = scalery.inverse_transform(predicted_sales)"
   ]
  },
  {
   "cell_type": "code",
   "execution_count": 23,
   "metadata": {},
   "outputs": [
    {
     "data": {
      "text/plain": [
       "array([1400215.78324457])"
      ]
     },
     "execution_count": 23,
     "metadata": {},
     "output_type": "execute_result"
    }
   ],
   "source": [
    "predicted_sales_unscaled"
   ]
  },
  {
   "cell_type": "code",
   "execution_count": null,
   "metadata": {},
   "outputs": [],
   "source": [
    "1643690.90, 1567605.06700487, 1400215.7832"
   ]
  }
 ],
 "metadata": {
  "kernelspec": {
   "display_name": "Python 3",
   "language": "python",
   "name": "python3"
  },
  "language_info": {
   "codemirror_mode": {
    "name": "ipython",
    "version": 3
   },
   "file_extension": ".py",
   "mimetype": "text/x-python",
   "name": "python",
   "nbconvert_exporter": "python",
   "pygments_lexer": "ipython3",
   "version": "3.8.5"
  }
 },
 "nbformat": 4,
 "nbformat_minor": 4
}
