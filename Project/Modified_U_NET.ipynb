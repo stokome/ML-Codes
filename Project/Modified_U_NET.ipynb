{
  "nbformat": 4,
  "nbformat_minor": 0,
  "metadata": {
    "kernelspec": {
      "name": "python3",
      "display_name": "Python 3.6.8 64-bit"
    },
    "language_info": {
      "codemirror_mode": {
        "name": "ipython",
        "version": 3
      },
      "file_extension": ".py",
      "mimetype": "text/x-python",
      "name": "python",
      "nbconvert_exporter": "python",
      "pygments_lexer": "ipython3",
      "version": "3.6.8"
    },
    "colab": {
      "name": "Modified_U-NET.ipynb",
      "provenance": [],
      "collapsed_sections": [],
      "toc_visible": true
    },
    "accelerator": "GPU",
    "metadata": {
      "interpreter": {
        "hash": "e7c37ba80a6e54a3d63188245ab5de6a3e0d381993bcb1990a7020536fc2299e"
      }
    },
    "interpreter": {
      "hash": "3335b556e7df3b996b9cf529bc0d7cd0ef4f7da0de1df0db85c0b78447ec50db"
    }
  },
  "cells": [
    {
      "cell_type": "code",
      "metadata": {
        "id": "eaaDWyZbOSb8"
      },
      "source": [
        "import numpy as np \n",
        "from numpy import asarray\n",
        "import tensorflow as tf \n",
        "from tensorflow.keras.optimizers import Adam,RMSprop,SGD\n",
        "import os\n",
        "import shutil \n",
        "import matplotlib.pyplot as plt \n",
        "import matplotlib.image as mpimg\n",
        "from PIL import Image\n",
        "from tensorflow import keras\n",
        "from tensorflow.keras.models import Model, load_model\n",
        "import tensorflow.keras.layers\n",
        "import cv2\n",
        "from tqdm import tqdm\n",
        "from sklearn.model_selection import train_test_split"
      ],
      "execution_count": 1,
      "outputs": []
    },
    {
      "cell_type": "code",
      "metadata": {
        "id": "6Yg9iGcXOScF"
      },
      "source": [
        "data_directory = 'C:/Users/ndahr/Desktop/GAR-SEG/Card_Glass/'"
      ],
      "execution_count": 2,
      "outputs": []
    },
    {
      "cell_type": "code",
      "metadata": {
        "id": "bOzOyYKaM-H5"
      },
      "source": [
        "data_list = os.listdir(data_directory)\n",
        "train_list = []\n",
        "label_list = []\n",
        "text_list = []\n",
        "\n",
        "for d in data_list:\n",
        "    train_list.append(d + \"/img.png\")\n",
        "    label_list.append(d + \"/label.png\")\n",
        "    text_list.append(d + \"/label_names.txt\")"
      ],
      "execution_count": 3,
      "outputs": []
    },
    {
      "cell_type": "code",
      "metadata": {
        "colab": {
          "base_uri": "https://localhost:8080/"
        },
        "id": "-on-COBpmnEC",
        "outputId": "7989fd18-f159-498f-a5b3-f0a4f784a8d0"
      },
      "source": [
        "print(text_list[0])"
      ],
      "execution_count": 4,
      "outputs": [
        {
          "output_type": "stream",
          "name": "stdout",
          "text": [
            "cardboard112_json/label_names.txt\n"
          ]
        }
      ]
    },
    {
      "cell_type": "code",
      "metadata": {
        "id": "AQm9abFdOScT",
        "colab": {
          "base_uri": "https://localhost:8080/"
        },
        "outputId": "ce2eb048-fe51-4c47-981c-e01b61a82d48"
      },
      "source": [
        "print(len(train_list))\n",
        "print(len(label_list))\n",
        "print(len(text_list))"
      ],
      "execution_count": 5,
      "outputs": [
        {
          "output_type": "stream",
          "name": "stdout",
          "text": [
            "240\n240\n240\n"
          ]
        }
      ]
    },
    {
      "cell_type": "code",
      "metadata": {
        "id": "WYKtRZhMOSc4",
        "colab": {
          "base_uri": "https://localhost:8080/"
        },
        "outputId": "cbcd7cb2-accf-4f22-9016-5fcbe9c86b33"
      },
      "source": [
        "height , width = (512,512)\n",
        "m = len(label_list)\n",
        "X = np.zeros([m, height, width, 3])\n",
        "Y = np.zeros([m, height, width, 3])\n",
        "\n",
        "for i in tqdm(range(m)):\n",
        "    img = mpimg.imread(data_directory  + train_list[i])\n",
        "    image = Image.open(data_directory  + train_list[i])\n",
        "    if image.mode == 'RGBA':\n",
        "        image = image.convert(\"RGB\")\n",
        "        img = np.array(image)\n",
        "\n",
        "\n",
        "    img1 = mpimg.imread(data_directory  + label_list[i])\n",
        "    image1 = Image.open(data_directory  + label_list[i])\n",
        "    if image1.mode == 'P':\n",
        "        image1 = image1.convert('RGB')\n",
        "        img1 = np.array(image1)\n",
        "    X[i] = img\n",
        "    Y[i] = img1\n"
      ],
      "execution_count": 6,
      "outputs": [
        {
          "output_type": "stream",
          "name": "stderr",
          "text": [
            "100%|██████████| 240/240 [00:05<00:00, 40.63it/s]\n"
          ]
        }
      ]
    },
    {
      "cell_type": "code",
      "metadata": {
        "id": "H33iA86ZM-H_",
        "colab": {
          "base_uri": "https://localhost:8080/"
        },
        "outputId": "21b30b34-77af-4319-96fd-77bd5a47a372"
      },
      "source": [
        "for n in tqdm(range(m)):\n",
        "    for i in range(height):\n",
        "        for j in range(width):\n",
        "            for c in range(3):\n",
        "                if(Y[n,i,j,c] > 0):\n",
        "                    Y[n,i,j,c] = 1"
      ],
      "execution_count": 7,
      "outputs": [
        {
          "output_type": "stream",
          "name": "stderr",
          "text": [
            "100%|██████████| 240/240 [02:14<00:00,  1.79it/s]\n"
          ]
        }
      ]
    },
    {
      "cell_type": "code",
      "metadata": {
        "id": "knQa4s8KM-IA"
      },
      "source": [
        "colour_label = np.array([[0.0 ,0.0 ,0.0], [1.0,0.0,0.0]])"
      ],
      "execution_count": 8,
      "outputs": []
    },
    {
      "cell_type": "code",
      "metadata": {
        "id": "yXTrgMf9M-IA"
      },
      "source": [
        "def change_colour(t, k):\n",
        "  if(k == \"'_background_\\n'\"):\n",
        "    t = [0.0, 0.0, 0.0]\n",
        "    #print('background')\n",
        "  elif(k == \"cardboard\\n\"):\n",
        "    t = [0.0, 0.0, 1.0]\n",
        "    #print(\"C\")\n",
        "  elif(k == \"glass\\n\"):\n",
        "    t = [0.0, 1.0, 0.0]\n",
        "    #print(\"D\")\n",
        "  elif(k == \"metal\\n\"):\n",
        "    t = [0.0, 1.0, 1.0]\n",
        "    #print(\"EL\")\n",
        "  elif(k == \"paper\\n\"):\n",
        "    t = [1.0, 0.0, 0.0]\n",
        "    #print(\"ER\")\n",
        "  elif(k == \"plastic\\n\"):\n",
        "    t = [1.0, 0, 1.0]\n",
        "    #print(\"L\")\n",
        "  elif(k == \"trash\\n\"):\n",
        "    t = [1.0, 1.0, 0.0]\n",
        "    #print(\"S\")\n",
        "  else:\n",
        "    t = [0.0,0.0,0.0]\n",
        "  return t\n"
      ],
      "execution_count": 9,
      "outputs": []
    },
    {
      "cell_type": "code",
      "metadata": {
        "id": "hj7QYbKhM-IC"
      },
      "source": [
        "def lab_checker(t, n):\n",
        "  #print('we r in')\n",
        "  f = open(data_directory + text_list[n], 'r')\n",
        "  fil = f.readlines()\n",
        "  counter = 0\n",
        "  \n",
        "  for line in fil:\n",
        "    if(tuple(t) == tuple(colour_label[counter])):\n",
        "      t = change_colour(t, line)\n",
        "      return np.array(t)\n",
        "    counter = counter + 1\n",
        "  f.close()\n",
        "  return np.array(t)\n"
      ],
      "execution_count": 10,
      "outputs": []
    },
    {
      "cell_type": "code",
      "metadata": {
        "tags": [],
        "id": "ZXwkr8luM-IC",
        "colab": {
          "base_uri": "https://localhost:8080/",
          "height": 421
        },
        "outputId": "2529161b-0b2a-46c8-96ec-b8ece8b587ae"
      },
      "source": [
        "for n in tqdm(range(m)):\n",
        "    for i in range(height):\n",
        "        for j in range(width):\n",
        "            t = Y[n, i, j, :]\n",
        "            Y[n, i, j, :] = lab_checker(t, n)"
      ],
      "execution_count": 11,
      "outputs": [
        {
          "output_type": "stream",
          "name": "stderr",
          "text": [
            "100%|██████████| 240/240 [1:35:20<00:00, 23.84s/it]\n"
          ]
        }
      ]
    },
    {
      "cell_type": "code",
      "execution_count": 12,
      "metadata": {},
      "outputs": [],
      "source": [
        "np.save('X-CAR-file',X)\n",
        "np.save('Y-CAR-file',Y)"
      ]
    },
    {
      "cell_type": "code",
      "execution_count": 12,
      "metadata": {},
      "outputs": [
        {
          "output_type": "stream",
          "name": "stderr",
          "text": [
            "100%|██████████| 240/240 [00:00<00:00, 2455.50it/s]\n"
          ]
        }
      ],
      "source": [
        "import cv2\n",
        "import numpy as np\n",
        "from tqdm import tqdm\n",
        "X = np.load('C:/Users/ndahr/Desktop/GAR-SEG/X-CAR-file.npy')\n",
        "Y = np.load('C:/Users/ndahr/Desktop/GAR-SEG/Y-CAR-file.npy')\n",
        "x_array = list()\n",
        "y_array = list()\n",
        "for i in tqdm(range(len(X))):\n",
        "    x = cv2.resize(X[i], (128,128))\n",
        "    y = cv2.resize(Y[i], (128,128))\n",
        "    x_array.append(x)\n",
        "    y_array.append(y)\n",
        "\n",
        "\n",
        "X128 = np.array(x_array)\n",
        "Y128 = np.array(y_array)\n",
        "np.save('X-CAR-GLAS',X128)\n",
        "np.save('Y-CAR-GLAS',Y128)"
      ]
    },
    {
      "cell_type": "code",
      "metadata": {
        "id": "c4B4hO84M-ID",
        "outputId": "22f7e850-cad0-4726-ab10-ca42b083d9d0"
      },
      "source": [
        "import matplotlib.pyplot as plt \n",
        "plt.imshow(X[100])"
      ],
      "execution_count": 10,
      "outputs": [
        {
          "output_type": "execute_result",
          "data": {
            "text/plain": [
              "<matplotlib.image.AxesImage at 0x1fc56dbfa58>"
            ]
          },
          "metadata": {},
          "execution_count": 10
        },
        {
          "output_type": "display_data",
          "data": {
            "text/plain": "<Figure size 432x288 with 1 Axes>",
            "image/svg+xml": "<?xml version=\"1.0\" encoding=\"utf-8\" standalone=\"no\"?>\r\n<!DOCTYPE svg PUBLIC \"-//W3C//DTD SVG 1.1//EN\"\r\n  \"http://www.w3.org/Graphics/SVG/1.1/DTD/svg11.dtd\">\r\n<!-- Created with matplotlib (https://matplotlib.org/) -->\r\n<svg height=\"252.105pt\" version=\"1.1\" viewBox=\"0 0 262.587344 252.105\" width=\"262.587344pt\" xmlns=\"http://www.w3.org/2000/svg\" xmlns:xlink=\"http://www.w3.org/1999/xlink\">\r\n <metadata>\r\n  <rdf:RDF xmlns:cc=\"http://creativecommons.org/ns#\" xmlns:dc=\"http://purl.org/dc/elements/1.1/\" xmlns:rdf=\"http://www.w3.org/1999/02/22-rdf-syntax-ns#\">\r\n   <cc:Work>\r\n    <dc:type rdf:resource=\"http://purl.org/dc/dcmitype/StillImage\"/>\r\n    <dc:date>2021-06-30T01:15:23.172432</dc:date>\r\n    <dc:format>image/svg+xml</dc:format>\r\n    <dc:creator>\r\n     <cc:Agent>\r\n      <dc:title>Matplotlib v3.3.4, https://matplotlib.org/</dc:title>\r\n     </cc:Agent>\r\n    </dc:creator>\r\n   </cc:Work>\r\n  </rdf:RDF>\r\n </metadata>\r\n <defs>\r\n  <style type=\"text/css\">*{stroke-linecap:butt;stroke-linejoin:round;}</style>\r\n </defs>\r\n <g id=\"figure_1\">\r\n  <g id=\"patch_1\">\r\n   <path d=\"M 0 252.105 \r\nL 262.587344 252.105 \r\nL 262.587344 0 \r\nL 0 0 \r\nz\r\n\" style=\"fill:none;\"/>\r\n  </g>\r\n  <g id=\"axes_1\">\r\n   <g id=\"patch_2\">\r\n    <path d=\"M 33.2875 228.226875 \r\nL 250.7275 228.226875 \r\nL 250.7275 10.786875 \r\nL 33.2875 10.786875 \r\nz\r\n\" style=\"fill:#ffffff;\"/>\r\n   </g>\r\n   <g clip-path=\"url(#p033501b007)\">\r\n    <image height=\"218\" id=\"imaged5b2efb931\" transform=\"scale(1 -1)translate(0 -218)\" width=\"218\" x=\"33.2875\" xlink:href=\"data:image/png;base64,\r\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\" y=\"-10.226875\"/>\r\n   </g>\r\n   <g id=\"matplotlib.axis_1\">\r\n    <g id=\"xtick_1\">\r\n     <g id=\"line2d_1\">\r\n      <defs>\r\n       <path d=\"M 0 0 \r\nL 0 3.5 \r\n\" id=\"ma56f175259\" style=\"stroke:#000000;stroke-width:0.8;\"/>\r\n      </defs>\r\n      <g>\r\n       <use style=\"stroke:#000000;stroke-width:0.8;\" x=\"33.499844\" xlink:href=\"#ma56f175259\" y=\"228.226875\"/>\r\n      </g>\r\n     </g>\r\n     <g id=\"text_1\">\r\n      <!-- 0 -->\r\n      <g transform=\"translate(30.318594 242.825312)scale(0.1 -0.1)\">\r\n       <defs>\r\n        <path d=\"M 31.78125 66.40625 \r\nQ 24.171875 66.40625 20.328125 58.90625 \r\nQ 16.5 51.421875 16.5 36.375 \r\nQ 16.5 21.390625 20.328125 13.890625 \r\nQ 24.171875 6.390625 31.78125 6.390625 \r\nQ 39.453125 6.390625 43.28125 13.890625 \r\nQ 47.125 21.390625 47.125 36.375 \r\nQ 47.125 51.421875 43.28125 58.90625 \r\nQ 39.453125 66.40625 31.78125 66.40625 \r\nz\r\nM 31.78125 74.21875 \r\nQ 44.046875 74.21875 50.515625 64.515625 \r\nQ 56.984375 54.828125 56.984375 36.375 \r\nQ 56.984375 17.96875 50.515625 8.265625 \r\nQ 44.046875 -1.421875 31.78125 -1.421875 \r\nQ 19.53125 -1.421875 13.0625 8.265625 \r\nQ 6.59375 17.96875 6.59375 36.375 \r\nQ 6.59375 54.828125 13.0625 64.515625 \r\nQ 19.53125 74.21875 31.78125 74.21875 \r\nz\r\n\" id=\"DejaVuSans-48\"/>\r\n       </defs>\r\n       <use xlink:href=\"#DejaVuSans-48\"/>\r\n      </g>\r\n     </g>\r\n    </g>\r\n    <g id=\"xtick_2\">\r\n     <g id=\"line2d_2\">\r\n      <g>\r\n       <use style=\"stroke:#000000;stroke-width:0.8;\" x=\"75.968594\" xlink:href=\"#ma56f175259\" y=\"228.226875\"/>\r\n      </g>\r\n     </g>\r\n     <g id=\"text_2\">\r\n      <!-- 100 -->\r\n      <g transform=\"translate(66.424844 242.825312)scale(0.1 -0.1)\">\r\n       <defs>\r\n        <path d=\"M 12.40625 8.296875 \r\nL 28.515625 8.296875 \r\nL 28.515625 63.921875 \r\nL 10.984375 60.40625 \r\nL 10.984375 69.390625 \r\nL 28.421875 72.90625 \r\nL 38.28125 72.90625 \r\nL 38.28125 8.296875 \r\nL 54.390625 8.296875 \r\nL 54.390625 0 \r\nL 12.40625 0 \r\nz\r\n\" id=\"DejaVuSans-49\"/>\r\n       </defs>\r\n       <use xlink:href=\"#DejaVuSans-49\"/>\r\n       <use x=\"63.623047\" xlink:href=\"#DejaVuSans-48\"/>\r\n       <use x=\"127.246094\" xlink:href=\"#DejaVuSans-48\"/>\r\n      </g>\r\n     </g>\r\n    </g>\r\n    <g id=\"xtick_3\">\r\n     <g id=\"line2d_3\">\r\n      <g>\r\n       <use style=\"stroke:#000000;stroke-width:0.8;\" x=\"118.437344\" xlink:href=\"#ma56f175259\" y=\"228.226875\"/>\r\n      </g>\r\n     </g>\r\n     <g id=\"text_3\">\r\n      <!-- 200 -->\r\n      <g transform=\"translate(108.893594 242.825312)scale(0.1 -0.1)\">\r\n       <defs>\r\n        <path d=\"M 19.1875 8.296875 \r\nL 53.609375 8.296875 \r\nL 53.609375 0 \r\nL 7.328125 0 \r\nL 7.328125 8.296875 \r\nQ 12.9375 14.109375 22.625 23.890625 \r\nQ 32.328125 33.6875 34.8125 36.53125 \r\nQ 39.546875 41.84375 41.421875 45.53125 \r\nQ 43.3125 49.21875 43.3125 52.78125 \r\nQ 43.3125 58.59375 39.234375 62.25 \r\nQ 35.15625 65.921875 28.609375 65.921875 \r\nQ 23.96875 65.921875 18.8125 64.3125 \r\nQ 13.671875 62.703125 7.8125 59.421875 \r\nL 7.8125 69.390625 \r\nQ 13.765625 71.78125 18.9375 73 \r\nQ 24.125 74.21875 28.421875 74.21875 \r\nQ 39.75 74.21875 46.484375 68.546875 \r\nQ 53.21875 62.890625 53.21875 53.421875 \r\nQ 53.21875 48.921875 51.53125 44.890625 \r\nQ 49.859375 40.875 45.40625 35.40625 \r\nQ 44.1875 33.984375 37.640625 27.21875 \r\nQ 31.109375 20.453125 19.1875 8.296875 \r\nz\r\n\" id=\"DejaVuSans-50\"/>\r\n       </defs>\r\n       <use xlink:href=\"#DejaVuSans-50\"/>\r\n       <use x=\"63.623047\" xlink:href=\"#DejaVuSans-48\"/>\r\n       <use x=\"127.246094\" xlink:href=\"#DejaVuSans-48\"/>\r\n      </g>\r\n     </g>\r\n    </g>\r\n    <g id=\"xtick_4\">\r\n     <g id=\"line2d_4\">\r\n      <g>\r\n       <use style=\"stroke:#000000;stroke-width:0.8;\" x=\"160.906094\" xlink:href=\"#ma56f175259\" y=\"228.226875\"/>\r\n      </g>\r\n     </g>\r\n     <g id=\"text_4\">\r\n      <!-- 300 -->\r\n      <g transform=\"translate(151.362344 242.825312)scale(0.1 -0.1)\">\r\n       <defs>\r\n        <path d=\"M 40.578125 39.3125 \r\nQ 47.65625 37.796875 51.625 33 \r\nQ 55.609375 28.21875 55.609375 21.1875 \r\nQ 55.609375 10.40625 48.1875 4.484375 \r\nQ 40.765625 -1.421875 27.09375 -1.421875 \r\nQ 22.515625 -1.421875 17.65625 -0.515625 \r\nQ 12.796875 0.390625 7.625 2.203125 \r\nL 7.625 11.71875 \r\nQ 11.71875 9.328125 16.59375 8.109375 \r\nQ 21.484375 6.890625 26.8125 6.890625 \r\nQ 36.078125 6.890625 40.9375 10.546875 \r\nQ 45.796875 14.203125 45.796875 21.1875 \r\nQ 45.796875 27.640625 41.28125 31.265625 \r\nQ 36.765625 34.90625 28.71875 34.90625 \r\nL 20.21875 34.90625 \r\nL 20.21875 43.015625 \r\nL 29.109375 43.015625 \r\nQ 36.375 43.015625 40.234375 45.921875 \r\nQ 44.09375 48.828125 44.09375 54.296875 \r\nQ 44.09375 59.90625 40.109375 62.90625 \r\nQ 36.140625 65.921875 28.71875 65.921875 \r\nQ 24.65625 65.921875 20.015625 65.03125 \r\nQ 15.375 64.15625 9.8125 62.3125 \r\nL 9.8125 71.09375 \r\nQ 15.4375 72.65625 20.34375 73.4375 \r\nQ 25.25 74.21875 29.59375 74.21875 \r\nQ 40.828125 74.21875 47.359375 69.109375 \r\nQ 53.90625 64.015625 53.90625 55.328125 \r\nQ 53.90625 49.265625 50.4375 45.09375 \r\nQ 46.96875 40.921875 40.578125 39.3125 \r\nz\r\n\" id=\"DejaVuSans-51\"/>\r\n       </defs>\r\n       <use xlink:href=\"#DejaVuSans-51\"/>\r\n       <use x=\"63.623047\" xlink:href=\"#DejaVuSans-48\"/>\r\n       <use x=\"127.246094\" xlink:href=\"#DejaVuSans-48\"/>\r\n      </g>\r\n     </g>\r\n    </g>\r\n    <g id=\"xtick_5\">\r\n     <g id=\"line2d_5\">\r\n      <g>\r\n       <use style=\"stroke:#000000;stroke-width:0.8;\" x=\"203.374844\" xlink:href=\"#ma56f175259\" y=\"228.226875\"/>\r\n      </g>\r\n     </g>\r\n     <g id=\"text_5\">\r\n      <!-- 400 -->\r\n      <g transform=\"translate(193.831094 242.825312)scale(0.1 -0.1)\">\r\n       <defs>\r\n        <path d=\"M 37.796875 64.3125 \r\nL 12.890625 25.390625 \r\nL 37.796875 25.390625 \r\nz\r\nM 35.203125 72.90625 \r\nL 47.609375 72.90625 \r\nL 47.609375 25.390625 \r\nL 58.015625 25.390625 \r\nL 58.015625 17.1875 \r\nL 47.609375 17.1875 \r\nL 47.609375 0 \r\nL 37.796875 0 \r\nL 37.796875 17.1875 \r\nL 4.890625 17.1875 \r\nL 4.890625 26.703125 \r\nz\r\n\" id=\"DejaVuSans-52\"/>\r\n       </defs>\r\n       <use xlink:href=\"#DejaVuSans-52\"/>\r\n       <use x=\"63.623047\" xlink:href=\"#DejaVuSans-48\"/>\r\n       <use x=\"127.246094\" xlink:href=\"#DejaVuSans-48\"/>\r\n      </g>\r\n     </g>\r\n    </g>\r\n    <g id=\"xtick_6\">\r\n     <g id=\"line2d_6\">\r\n      <g>\r\n       <use style=\"stroke:#000000;stroke-width:0.8;\" x=\"245.843594\" xlink:href=\"#ma56f175259\" y=\"228.226875\"/>\r\n      </g>\r\n     </g>\r\n     <g id=\"text_6\">\r\n      <!-- 500 -->\r\n      <g transform=\"translate(236.299844 242.825312)scale(0.1 -0.1)\">\r\n       <defs>\r\n        <path d=\"M 10.796875 72.90625 \r\nL 49.515625 72.90625 \r\nL 49.515625 64.59375 \r\nL 19.828125 64.59375 \r\nL 19.828125 46.734375 \r\nQ 21.96875 47.46875 24.109375 47.828125 \r\nQ 26.265625 48.1875 28.421875 48.1875 \r\nQ 40.625 48.1875 47.75 41.5 \r\nQ 54.890625 34.8125 54.890625 23.390625 \r\nQ 54.890625 11.625 47.5625 5.09375 \r\nQ 40.234375 -1.421875 26.90625 -1.421875 \r\nQ 22.3125 -1.421875 17.546875 -0.640625 \r\nQ 12.796875 0.140625 7.71875 1.703125 \r\nL 7.71875 11.625 \r\nQ 12.109375 9.234375 16.796875 8.0625 \r\nQ 21.484375 6.890625 26.703125 6.890625 \r\nQ 35.15625 6.890625 40.078125 11.328125 \r\nQ 45.015625 15.765625 45.015625 23.390625 \r\nQ 45.015625 31 40.078125 35.4375 \r\nQ 35.15625 39.890625 26.703125 39.890625 \r\nQ 22.75 39.890625 18.8125 39.015625 \r\nQ 14.890625 38.140625 10.796875 36.28125 \r\nz\r\n\" id=\"DejaVuSans-53\"/>\r\n       </defs>\r\n       <use xlink:href=\"#DejaVuSans-53\"/>\r\n       <use x=\"63.623047\" xlink:href=\"#DejaVuSans-48\"/>\r\n       <use x=\"127.246094\" xlink:href=\"#DejaVuSans-48\"/>\r\n      </g>\r\n     </g>\r\n    </g>\r\n   </g>\r\n   <g id=\"matplotlib.axis_2\">\r\n    <g id=\"ytick_1\">\r\n     <g id=\"line2d_7\">\r\n      <defs>\r\n       <path d=\"M 0 0 \r\nL -3.5 0 \r\n\" id=\"m9516f6a6e8\" style=\"stroke:#000000;stroke-width:0.8;\"/>\r\n      </defs>\r\n      <g>\r\n       <use style=\"stroke:#000000;stroke-width:0.8;\" x=\"33.2875\" xlink:href=\"#m9516f6a6e8\" y=\"10.999219\"/>\r\n      </g>\r\n     </g>\r\n     <g id=\"text_7\">\r\n      <!-- 0 -->\r\n      <g transform=\"translate(19.925 14.798437)scale(0.1 -0.1)\">\r\n       <use xlink:href=\"#DejaVuSans-48\"/>\r\n      </g>\r\n     </g>\r\n    </g>\r\n    <g id=\"ytick_2\">\r\n     <g id=\"line2d_8\">\r\n      <g>\r\n       <use style=\"stroke:#000000;stroke-width:0.8;\" x=\"33.2875\" xlink:href=\"#m9516f6a6e8\" y=\"53.467969\"/>\r\n      </g>\r\n     </g>\r\n     <g id=\"text_8\">\r\n      <!-- 100 -->\r\n      <g transform=\"translate(7.2 57.267187)scale(0.1 -0.1)\">\r\n       <use xlink:href=\"#DejaVuSans-49\"/>\r\n       <use x=\"63.623047\" xlink:href=\"#DejaVuSans-48\"/>\r\n       <use x=\"127.246094\" xlink:href=\"#DejaVuSans-48\"/>\r\n      </g>\r\n     </g>\r\n    </g>\r\n    <g id=\"ytick_3\">\r\n     <g id=\"line2d_9\">\r\n      <g>\r\n       <use style=\"stroke:#000000;stroke-width:0.8;\" x=\"33.2875\" xlink:href=\"#m9516f6a6e8\" y=\"95.936719\"/>\r\n      </g>\r\n     </g>\r\n     <g id=\"text_9\">\r\n      <!-- 200 -->\r\n      <g transform=\"translate(7.2 99.735937)scale(0.1 -0.1)\">\r\n       <use xlink:href=\"#DejaVuSans-50\"/>\r\n       <use x=\"63.623047\" xlink:href=\"#DejaVuSans-48\"/>\r\n       <use x=\"127.246094\" xlink:href=\"#DejaVuSans-48\"/>\r\n      </g>\r\n     </g>\r\n    </g>\r\n    <g id=\"ytick_4\">\r\n     <g id=\"line2d_10\">\r\n      <g>\r\n       <use style=\"stroke:#000000;stroke-width:0.8;\" x=\"33.2875\" xlink:href=\"#m9516f6a6e8\" y=\"138.405469\"/>\r\n      </g>\r\n     </g>\r\n     <g id=\"text_10\">\r\n      <!-- 300 -->\r\n      <g transform=\"translate(7.2 142.204687)scale(0.1 -0.1)\">\r\n       <use xlink:href=\"#DejaVuSans-51\"/>\r\n       <use x=\"63.623047\" xlink:href=\"#DejaVuSans-48\"/>\r\n       <use x=\"127.246094\" xlink:href=\"#DejaVuSans-48\"/>\r\n      </g>\r\n     </g>\r\n    </g>\r\n    <g id=\"ytick_5\">\r\n     <g id=\"line2d_11\">\r\n      <g>\r\n       <use style=\"stroke:#000000;stroke-width:0.8;\" x=\"33.2875\" xlink:href=\"#m9516f6a6e8\" y=\"180.874219\"/>\r\n      </g>\r\n     </g>\r\n     <g id=\"text_11\">\r\n      <!-- 400 -->\r\n      <g transform=\"translate(7.2 184.673437)scale(0.1 -0.1)\">\r\n       <use xlink:href=\"#DejaVuSans-52\"/>\r\n       <use x=\"63.623047\" xlink:href=\"#DejaVuSans-48\"/>\r\n       <use x=\"127.246094\" xlink:href=\"#DejaVuSans-48\"/>\r\n      </g>\r\n     </g>\r\n    </g>\r\n    <g id=\"ytick_6\">\r\n     <g id=\"line2d_12\">\r\n      <g>\r\n       <use style=\"stroke:#000000;stroke-width:0.8;\" x=\"33.2875\" xlink:href=\"#m9516f6a6e8\" y=\"223.342969\"/>\r\n      </g>\r\n     </g>\r\n     <g id=\"text_12\">\r\n      <!-- 500 -->\r\n      <g transform=\"translate(7.2 227.142187)scale(0.1 -0.1)\">\r\n       <use xlink:href=\"#DejaVuSans-53\"/>\r\n       <use x=\"63.623047\" xlink:href=\"#DejaVuSans-48\"/>\r\n       <use x=\"127.246094\" xlink:href=\"#DejaVuSans-48\"/>\r\n      </g>\r\n     </g>\r\n    </g>\r\n   </g>\r\n   <g id=\"patch_3\">\r\n    <path d=\"M 33.2875 228.226875 \r\nL 33.2875 10.786875 \r\n\" style=\"fill:none;stroke:#000000;stroke-linecap:square;stroke-linejoin:miter;stroke-width:0.8;\"/>\r\n   </g>\r\n   <g id=\"patch_4\">\r\n    <path d=\"M 250.7275 228.226875 \r\nL 250.7275 10.786875 \r\n\" style=\"fill:none;stroke:#000000;stroke-linecap:square;stroke-linejoin:miter;stroke-width:0.8;\"/>\r\n   </g>\r\n   <g id=\"patch_5\">\r\n    <path d=\"M 33.2875 228.226875 \r\nL 250.7275 228.226875 \r\n\" style=\"fill:none;stroke:#000000;stroke-linecap:square;stroke-linejoin:miter;stroke-width:0.8;\"/>\r\n   </g>\r\n   <g id=\"patch_6\">\r\n    <path d=\"M 33.2875 10.786875 \r\nL 250.7275 10.786875 \r\n\" style=\"fill:none;stroke:#000000;stroke-linecap:square;stroke-linejoin:miter;stroke-width:0.8;\"/>\r\n   </g>\r\n  </g>\r\n </g>\r\n <defs>\r\n  <clipPath id=\"p033501b007\">\r\n   <rect height=\"217.44\" width=\"217.44\" x=\"33.2875\" y=\"10.786875\"/>\r\n  </clipPath>\r\n </defs>\r\n</svg>\r\n",
            "image/png": "[encoded data removed]"
          },
          "metadata": {
            "needs_background": "light"
          }
        }
      ]
    },
    {
      "cell_type": "code",
      "metadata": {
        "id": "-Jgp6_nKM-ID"
      },
      "source": [
        "x_train, x_test, y_train, y_test = train_test_split(X, Z, test_size=0.2, random_state=42)"
      ],
      "execution_count": null,
      "outputs": []
    },
    {
      "cell_type": "code",
      "metadata": {
        "id": "TkT_JaPfOSc9"
      },
      "source": [
        "# Function for a single resolution convolution operations\n",
        "\n",
        "def conv_layer(input_layer, conv_channels, kernel_size = (3,3), pool_stride = (2,2), dropout_rate = 0.2, padding = 'same', activation = 'relu'):        \n",
        "    print(input_layer.shape)\n",
        "    layer_1 = tf.keras.layers.Conv2D(conv_channels, kernel_size, activation = activation, padding = padding, kernel_initializer = 'he_normal')(input_layer)\n",
        "    print(layer_1.shape)\n",
        "    layer_2 = tf.keras.layers.BatchNormalization()(layer_1)\n",
        "    layer_3 = tf.keras.layers.Dropout(dropout_rate)(layer_2)\n",
        "    layer_4 = tf.keras.layers.Conv2D(conv_channels, kernel_size, activation = activation, padding = padding, kernel_initializer = 'he_normal')(layer_3)\n",
        "    layer_5 = tf.keras.layers.BatchNormalization()(layer_4)\n",
        "    layer_6 = tf.keras.layers.MaxPool2D(pool_stride)(layer_5)\n",
        "    \n",
        "    return layer_1,layer_6"
      ],
      "execution_count": null,
      "outputs": []
    },
    {
      "cell_type": "code",
      "metadata": {
        "id": "GZfZ6H9fOSdD"
      },
      "source": [
        "# Function for a single resolution convolution operation at the terminal position\n",
        "\n",
        "def terminal_conv_layer(input_layer, conv_channels, kernel_size = (3,3), dropout_rate = 0.2, padding = 'same', activation = 'relu'):\n",
        "    \n",
        "    layer_1 = tf.keras.layers.Conv2D(conv_channels, kernel_size, activation = activation, padding = padding, kernel_initializer = 'he_normal')(input_layer)\n",
        "    layer_2 = tf.keras.layers.BatchNormalization()(layer_1)\n",
        "    layer_3 = tf.keras.layers.Dropout(dropout_rate)(layer_2)\n",
        "    layer_4 = tf.keras.layers.Conv2D(conv_channels, kernel_size, activation = activation, padding = padding, kernel_initializer = 'he_normal')(layer_3)\n",
        "    layer_5 = tf.keras.layers.BatchNormalization()(layer_4)\n",
        "    \n",
        "    return layer_5"
      ],
      "execution_count": null,
      "outputs": []
    },
    {
      "cell_type": "code",
      "metadata": {
        "id": "MhvuHWErOSdJ"
      },
      "source": [
        "# Function for a single resolution transpose convolution operation\n",
        "\n",
        "def transpose_conv_layer(input_layer, skip_layer, conv_channels, kernel_size = (3,3), transpose_kernel_size = (2,2), dropout_rate = 0.2, padding = 'same', activation = 'relu', transpose_strides = (2,2)):\n",
        "    print(input_layer.shape)\n",
        "    layer_1 = tf.keras.layers.Conv2DTranspose(conv_channels, transpose_kernel_size, strides = transpose_strides, padding = padding )(input_layer)\n",
        "    print(layer_1.shape, skip_layer.shape)\n",
        "    layer_2 = tf.keras.layers.concatenate([layer_1, skip_layer], axis = 3)\n",
        "    \n",
        "    layer_3 = tf.keras.layers.Conv2D(conv_channels, kernel_size, activation = activation, padding = padding, kernel_initializer = 'he_normal')(layer_2)\n",
        "    layer_4 = tf.keras.layers.BatchNormalization()(layer_3)\n",
        "    layer_5 = tf.keras.layers.Dropout(dropout_rate)(layer_4)\n",
        "    layer_6 = tf.keras.layers.Conv2D(conv_channels, kernel_size, activation = activation, padding = padding, kernel_initializer = 'he_normal')(layer_5)\n",
        "    layer_7 = tf.keras.layers.BatchNormalization()(layer_6)    \n",
        "    \n",
        "    return layer_7"
      ],
      "execution_count": null,
      "outputs": []
    },
    {
      "cell_type": "code",
      "metadata": {
        "id": "J7fVvmdNOSdP"
      },
      "source": [
        "def modified_unet_model(height, width, image_channels):\n",
        "    \n",
        "    inputs = tf.keras.layers.Input((height, width, image_channels))\n",
        "    normalized_inputs = tf.keras.layers.Lambda(lambda x: x/255)(inputs)\n",
        "\n",
        "    S1,D1 = conv_layer(normalized_inputs, 32)\n",
        "    S2,D2 = conv_layer(D1, 64)\n",
        "    S3,D3 = conv_layer(D2, 128)\n",
        "    S4,D4 = conv_layer(D3, 256)\n",
        "    S5,D5 = conv_layer(D4, 512)\n",
        "\n",
        "    T1 = terminal_conv_layer(D5, 1024)\n",
        "\n",
        "    U1 = transpose_conv_layer(T1, S5, 512)\n",
        "    U2 = transpose_conv_layer(U1, S4, 256)\n",
        "    U3 = transpose_conv_layer(U2, S3, 128)\n",
        "    U4 = transpose_conv_layer(U3, S2, 64)\n",
        "    U5 = transpose_conv_layer(U4, S1, 32)\n",
        "\n",
        "    outputs = tf.keras.layers.Conv2D(3,(1,1), activation = tf.nn.relu)(U5)\n",
        "\n",
        "    model = Model(inputs = [inputs], outputs = [outputs])\n",
        "    \n",
        "    model.summary()\n",
        "    \n",
        "    return model"
      ],
      "execution_count": null,
      "outputs": []
    },
    {
      "cell_type": "code",
      "metadata": {
        "id": "56Qy4c8BOSdU"
      },
      "source": [
        "def train_the_model(X,Y,optimizer,loss,metrics,epochs,verbose):\n",
        "    \n",
        "    h = X.shape[1]\n",
        "    \n",
        "    w = X.shape[2]\n",
        "    c = X.shape[3]\n",
        "    print(h, w, c)\n",
        "    \n",
        "    unet_model = modified_unet_model(h,w,c)\n",
        "    \n",
        "    unet_model.compile(optimizer = optimizer, loss = loss, metrics = [metrics])\n",
        "    history = unet_model.fit(X,Y,validation_data= (x_test, y_test),epochs = epochs, verbose = verbose, batch_size = 32)\n",
        "    \n",
        "    return history, unet_model"
      ],
      "execution_count": null,
      "outputs": []
    },
    {
      "cell_type": "code",
      "metadata": {
        "id": "YWZuD9ZVOSdZ",
        "colab": {
          "base_uri": "https://localhost:8080/",
          "height": 1000
        },
        "outputId": "de1768fd-d422-450a-d45e-57823332bba9"
      },
      "source": [
        "model_history , trained_model = train_the_model(x_train,y_train,'adam','mean_squared_error','acc',600,1)"
      ],
      "execution_count": null,
      "outputs": []
    },
    {
      "cell_type": "code",
      "metadata": {
        "id": "jyzt0QExM-IJ"
      },
      "source": [
        "trained_model.save('weights.h5')"
      ],
      "execution_count": null,
      "outputs": []
    },
    {
      "cell_type": "code",
      "metadata": {
        "id": "nxNngZKYM-IJ",
        "outputId": "b0e7b714-3a19-48fd-8322-ac5c4dd0be51"
      },
      "source": [
        "plt.imshow(Y[360])"
      ],
      "execution_count": null,
      "outputs": []
    },
    {
      "cell_type": "code",
      "metadata": {
        "id": "3t3np9QcM-IK",
        "outputId": "1bd98be7-08ca-4a03-ce29-8ca96d86ad67"
      },
      "source": [
        "print(len(x_test))"
      ],
      "execution_count": null,
      "outputs": []
    },
    {
      "cell_type": "code",
      "metadata": {
        "id": "ShCy0nilM-IL",
        "outputId": "d954d535-5151-481c-d0b8-4889d76acd96"
      },
      "source": [
        "n = 100\n",
        "\n",
        "i = x_test[n]\n",
        "'''\n",
        "image = Image.open(data_directory  + train_list[n])\n",
        "if image.mode == 'RGBA':\n",
        "    image = image.convert(\"RGB\")\n",
        "    i = np.array(image)\n",
        "\n",
        "'''\n",
        "i = i.reshape((1,64,64,3))\n",
        "\n",
        "\n",
        "print(i.shape)\n",
        "img1 = trained_model.predict(i)"
      ],
      "execution_count": null,
      "outputs": []
    },
    {
      "cell_type": "code",
      "metadata": {
        "id": "6JeqaeBgM-IM",
        "outputId": "b0f2dd85-885f-4000-9961-75b5825db2c3"
      },
      "source": [
        "figure, axis = plt.subplots(1,3)\n",
        "axis[0].imshow(i[0])\n",
        "axis[0].set_title(\"Image\")\n",
        "\n",
        "axis[1].imshow(y_test[n])\n",
        "axis[1].set_title(\"Actual\")\n",
        "\n",
        "axis[2].imshow(img1[0])\n",
        "axis[2].set_title(\"Predicted\")\n",
        "\n",
        "\n",
        "plt.show()\n"
      ],
      "execution_count": null,
      "outputs": []
    },
    {
      "cell_type": "code",
      "metadata": {
        "id": "TxIdYQ1NM-IM"
      },
      "source": [],
      "execution_count": null,
      "outputs": []
    },
    {
      "cell_type": "code",
      "metadata": {
        "id": "2TfTtSkIM-IN"
      },
      "source": [
        "i = x_test[100]\n",
        "\n",
        "i = i.reshape((1,64,64,3))\n",
        "\n",
        "y_pred = trained_model.predict(i)\n",
        "y_true = y_test[100]"
      ],
      "execution_count": null,
      "outputs": []
    },
    {
      "cell_type": "code",
      "metadata": {
        "id": "zAPmpdF0M-IN"
      },
      "source": [
        "intersection = np.sum(np.logical_and(y_true, y_pred))\n",
        "union = np.sum(np.logical_or(y_pred, y_true))\n",
        "iou = np.mean((intersection)/union)\n",
        "dice = 2*np.mean(intersection/(np.sum(y_pred)+np.sum(y_true)))\n"
      ],
      "execution_count": null,
      "outputs": []
    },
    {
      "cell_type": "code",
      "metadata": {
        "id": "Osf6qxc-M-IO",
        "outputId": "0f38dbc0-f533-4e33-fcbc-7357d5a8f20f"
      },
      "source": [
        "print(iou)"
      ],
      "execution_count": null,
      "outputs": []
    },
    {
      "cell_type": "code",
      "metadata": {
        "id": "hZqCh4UHM-IO",
        "outputId": "c7fac033-0a7b-41a1-a2d5-6d50226f9aab"
      },
      "source": [
        "print(dice)"
      ],
      "execution_count": null,
      "outputs": []
    },
    {
      "cell_type": "code",
      "metadata": {
        "id": "ifbKm_v6M-IP"
      },
      "source": [
        "Y_Pred = trained_model.predict(X)"
      ],
      "execution_count": null,
      "outputs": []
    },
    {
      "cell_type": "code",
      "metadata": {
        "id": "kAyfmvUYM-IP",
        "outputId": "492634b7-e74b-4283-caf0-ac7082c5b0f3"
      },
      "source": [
        "for n in tqdm(range(m)):\n",
        "    for i in range(height):\n",
        "        for j in range(width):\n",
        "            for c in range(3):\n",
        "                if(Y_Pred[n,i,j,c] > 0):\n",
        "                    Y_Pred[n,i,j,c] = 1"
      ],
      "execution_count": null,
      "outputs": []
    },
    {
      "cell_type": "code",
      "metadata": {
        "id": "liBcCFmvM-IQ"
      },
      "source": [
        "intersection = np.sum(np.logical_and(Z, Y_Pred))\n",
        "union = np.sum(np.logical_or(Y_Pred, Z))\n",
        "iou = np.mean((intersection)/union)\n",
        "dice = 2*np.mean(intersection/(np.sum(Y_Pred)+np.sum(Z)))"
      ],
      "execution_count": null,
      "outputs": []
    },
    {
      "cell_type": "code",
      "metadata": {
        "id": "PGUOfJdfM-IR",
        "outputId": "49f9b70d-f158-4e5f-e3b3-26d37d017bdb"
      },
      "source": [
        "print(data_list[5])\n",
        "for d in range(len(data_list)):\n",
        "    plt.imsave(data_directory + data_list[d] + \"/label_new.png\", Z[d])\n",
        "    plt.imsave(data_directory + data_list[d] + \"/pred.png\", Y_Pred[d])\n"
      ],
      "execution_count": null,
      "outputs": []
    },
    {
      "cell_type": "code",
      "metadata": {
        "id": "-GnUm-5KM-IR",
        "outputId": "c86c92b0-e0cd-493e-94b7-b57e726c69b7"
      },
      "source": [
        "trained_model.save(\"model\")"
      ],
      "execution_count": null,
      "outputs": []
    },
    {
      "cell_type": "code",
      "metadata": {
        "id": "B5gYTn8vM-IS"
      },
      "source": [
        "classinter = [0, 0, 0, 0, 0, 0]\n",
        "classunion = [0, 0, 0, 0, 0, 0]"
      ],
      "execution_count": null,
      "outputs": []
    },
    {
      "cell_type": "code",
      "metadata": {
        "id": "lqOOKaB2M-IS"
      },
      "source": [
        "def classin(r, cl):\n",
        "    if(r == tuple([0.0, 0.0, 1.0])):\n",
        "        cl[0] = cl[0] + 1\n",
        "    elif(r == tuple([0.0, 1.0, 0.0])):\n",
        "        cl[1] = cl[1] + 1\n",
        "    elif(r == tuple([0.0, 1.0, 1.0])):\n",
        "        cl[2] = cl[2] + 1\n",
        "    elif(r == tuple([1.0, 0.0, 0.0])):\n",
        "        cl[3] = cl[3] + 1\n",
        "    elif(r == tuple([1.0, 0.0, 1.0])):\n",
        "        cl[4] = cl[4] + 1\n",
        "    elif(r == tuple([1.0, 1.0, 0.0])):\n",
        "        cl[5] = cl[5] + 1\n",
        "    return cl\n"
      ],
      "execution_count": null,
      "outputs": []
    },
    {
      "cell_type": "code",
      "metadata": {
        "id": "yEA8-YOxM-IT"
      },
      "source": [
        "def classun(r, cl):\n",
        "    if(r == tuple([0.0, 0.0, 1.0])):\n",
        "        cl[0] = cl[0] + 1\n",
        "    elif(r == tuple([0.0, 1.0, 0.0])):\n",
        "        cl[1] = cl[1] + 1\n",
        "    elif(r == tuple([0.0, 1.0, 1.0])):\n",
        "        cl[2] = cl[2] + 1\n",
        "    elif(r == tuple([1.0, 0.0, 0.0])):\n",
        "        cl[3] = cl[3] + 1\n",
        "    elif(r == tuple([1.0, 0.0, 1.0])):\n",
        "        cl[4] = cl[4] + 1\n",
        "    elif(r == tuple([1.0, 1.0, 0.0])):\n",
        "        cl[5] = cl[5] + 1\n",
        "    return cl"
      ],
      "execution_count": null,
      "outputs": []
    },
    {
      "cell_type": "code",
      "metadata": {
        "id": "aD6SfvYiM-IT",
        "outputId": "04e096ac-b6cf-4939-e9d4-57bf0babcabc"
      },
      "source": [
        "for n in tqdm(range(m)):\n",
        "    for i in range(height):\n",
        "        for j in range(width):\n",
        "            yp = tuple(Y_Pred[n, i, j, :])\n",
        "            yt = tuple(Z[n, i, j, :])\n",
        "            if(yp == yt):\n",
        "                classinter = classin(yp, classinter)\n",
        "                classunion = classun(yt, classunion)\n",
        "            else:\n",
        "                classunion = classun(yt, classunion)\n",
        "                classunion = classun(yp, classunion)\n"
      ],
      "execution_count": null,
      "outputs": []
    },
    {
      "cell_type": "code",
      "metadata": {
        "id": "SbXPovk-M-IU",
        "outputId": "1a95ab95-11c4-42c0-ca27-b225ecbbe329"
      },
      "source": [
        "print(\"IOU Score Class Wise\")\n",
        "print(\"#######################\")\n",
        "print(\"Center:    {}\", (classinter[0]/classunion[0])*100)\n",
        "print(\"Donut:     {}\", (classinter[1]/classunion[1])*100)\n",
        "print(\"Edge Loc:  {}\", (classinter[2]/classunion[2])*100)\n",
        "print(\"Edge Ring: {}\", (classinter[3]/classunion[3])*100)\n",
        "print(\"Loc:       {}\", (classinter[4]/classunion[4])*100)\n",
        "print(\"Scratch:   {}\", (classinter[5]/classunion[5])*100)"
      ],
      "execution_count": null,
      "outputs": []
    },
    {
      "cell_type": "code",
      "metadata": {
        "id": "1CuenOtXM-IV"
      },
      "source": [],
      "execution_count": null,
      "outputs": []
    }
  ]
}